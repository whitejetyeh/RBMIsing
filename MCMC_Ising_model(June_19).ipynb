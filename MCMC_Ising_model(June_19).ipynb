{
  "nbformat": 4,
  "nbformat_minor": 0,
  "metadata": {
    "colab": {
      "name": "MCMC_Ising_model(June 19).ipynb",
      "version": "0.3.2",
      "provenance": [],
      "collapsed_sections": [],
      "toc_visible": true,
      "include_colab_link": true
    },
    "kernelspec": {
      "name": "python3",
      "display_name": "Python 3"
    },
    "accelerator": "GPU"
  },
  "cells": [
    {
      "cell_type": "markdown",
      "metadata": {
        "id": "view-in-github",
        "colab_type": "text"
      },
      "source": [
        "<a href=\"https://colab.research.google.com/github/whitejetyeh/RBMIsing/blob/master/MCMC_Ising_model(June_19).ipynb\" target=\"_parent\"><img src=\"https://colab.research.google.com/assets/colab-badge.svg\" alt=\"Open In Colab\"/></a>"
      ]
    },
    {
      "cell_type": "markdown",
      "metadata": {
        "id": "JZP0AjyUSxpW",
        "colab_type": "text"
      },
      "source": [
        "# *Spin distributions in the 2D Ising Model*\n",
        "This code generates spin distributions in the 2D Ising model at given temperatures, i.e., data of stochastic binary values on a $N_s$ by $N_s$ grid. The process goes through Markov Chain Monte Carlo method, which randomly choose a spin to flip respect to  if the total energy will decrease and else if a random number $n_c \\in [0,1]$ is larger than the probability difference between the flipped and un-flipped situations.\n",
        "\n",
        "Ising model considers the Hamiltonian\n",
        "$$E(\\sigma)=-\\sum\\limits_{ij}J_{ij}\\sigma^i\\sigma^j - \\mu \\sum\\limits_i h_j \\sigma^j,$$\n",
        "and the probability to observe a configuration $\\sigma$ is given by the Boltzmann distribution\n",
        "$$p(\\sigma)=\\frac{e^{-E(\\sigma)}}{Z},\\ \\textrm{where } Z=\\sum\\limits_{\\sigma}e^{-E(\\sigma)}.$$\n",
        "Here, I consider the simplist case of $J_{ij}=1$ if $i$ and $j$ are each other's nearest neighbor and $\\mu=0$."
      ]
    },
    {
      "cell_type": "markdown",
      "metadata": {
        "id": "3I31Tc8nFJtW",
        "colab_type": "text"
      },
      "source": [
        "Mount google drive to save data"
      ]
    },
    {
      "cell_type": "code",
      "metadata": {
        "id": "qceF_-PNEPij",
        "colab_type": "code",
        "outputId": "f324c799-10c2-43f4-b478-88191cb02744",
        "colab": {
          "base_uri": "https://localhost:8080/",
          "height": 123
        }
      },
      "source": [
        "from google.colab import drive\n",
        "drive.mount('/content/gdrive')"
      ],
      "execution_count": 0,
      "outputs": [
        {
          "output_type": "stream",
          "text": [
            "Go to this URL in a browser: https://accounts.google.com/o/oauth2/auth?client_id=947318989803-6bn6qk8qdgf4n4g3pfee6491hc0brc4i.apps.googleusercontent.com&redirect_uri=urn%3Aietf%3Awg%3Aoauth%3A2.0%3Aoob&scope=email%20https%3A%2F%2Fwww.googleapis.com%2Fauth%2Fdocs.test%20https%3A%2F%2Fwww.googleapis.com%2Fauth%2Fdrive%20https%3A%2F%2Fwww.googleapis.com%2Fauth%2Fdrive.photos.readonly%20https%3A%2F%2Fwww.googleapis.com%2Fauth%2Fpeopleapi.readonly&response_type=code\n",
            "\n",
            "Enter your authorization code:\n",
            "··········\n",
            "Mounted at /content/gdrive\n"
          ],
          "name": "stdout"
        }
      ]
    },
    {
      "cell_type": "markdown",
      "metadata": {
        "id": "gQu1DlB4TVDC",
        "colab_type": "text"
      },
      "source": [
        "# MCMC Ising Model Construction\n",
        "\n",
        "An easy to read and detailed MCMC Ising model explanation can be found on [mathworks.com](https://www.mathworks.com/matlabcentral/fileexchange/62194-ising-model-and-metropolis-algorithm)."
      ]
    },
    {
      "cell_type": "code",
      "metadata": {
        "id": "uLKDW9nWTzeG",
        "colab_type": "code",
        "colab": {}
      },
      "source": [
        "import numpy as np\n",
        "import matplotlib.pyplot as plt\n",
        "import time\n",
        "\n",
        "\n",
        "def init_spins(n):\n",
        "    \"\"\"initialize a radom spin (1,-1) distribution on the nxn grid\"\"\"\n",
        "    return np.random.choice([1,-1], size=(n,n))\n",
        "\n",
        "def dE(spin,above,below,left,right):\n",
        "    \"\"\"the Ising model is defined as the following;\n",
        "    H=-J*sum_(x,y=0..n-1)spin_(x,y)*spin_(x+/-1,y+/-1),\n",
        "    i.e. Hamiltonian sums over J*spin multiplied by its neighbors with peroidic b.c.\n",
        "    positive/negative J describes ferromagnetic/anti-ferromagnetic model\n",
        "    we set J=1 W.L.O.G.; external field isn't considered for simplicity.\n",
        "    dE=H(flipped spin)-H(spin)\"\"\"\n",
        "    return 2*spin*(above+below+left+right)\n",
        "\n",
        "def MonteCarlo(spins,temp):\n",
        "    \"\"\"Monte Carlo Markov Chain process randomly chooses a spin and throw a dice to find if the chosen spin will be flipped. The spin will be flipped if 1. dE<0 or 2. the dice is larger than the flipping difference in Boltzmann probability, exp(-dE/T). After enough steps, the spin distribution shall reflects the thermal distribution at temperature=T.\"\"\"\n",
        "    dim = len(spins)#spins must be in a squared grid.\n",
        "#randomly choosing a spin\n",
        "    x = np.random.randint(dim)\n",
        "    y = np.random.randint(dim)\n",
        "#chosen spin's nearest neighbors with the periodic boundary condition\n",
        "    above = spins[(x-1)%dim][y]\n",
        "    below = spins[(x+1)%dim][y]\n",
        "    left = spins[x][(y-1)%dim]\n",
        "    right = spins[x][(y+1)%dim]\n",
        "#flipping condition\n",
        "    delteE = dE(spins[x][y],above,below,left,right)\n",
        "    if delteE <= 0 or np.random.random() < np.exp(-delteE/temp):\n",
        "        spins[x][y] = -spins[x][y]\n",
        "    return spins\n",
        "\n",
        "def MCMC(temp,n,nsteps):\n",
        "    \"\"\"repeat MonteCarlo nsteps times for nxn grid at temp\"\"\"\n",
        "    spins = init_spins(n)\n",
        "    for step in range(nsteps):\n",
        "        spins = MonteCarlo(spins,temp)\n",
        "    return spins\n",
        "\n",
        "def Emean(spins):\n",
        "    \"\"\"mean energy of spins, p.s. J=1 without external field\"\"\"\n",
        "    EperSpin = -0.5*spins*(np.roll(spins,-1,axis=0)+\\\n",
        "                           np.roll(spins,1,axis=0)+\\\n",
        "                           np.roll(spins,-1,axis=1)+\\\n",
        "                           np.roll(spins,1,axis=1))\n",
        "    return np.mean(EperSpin)\n",
        "\n",
        "def EvsT(n=10,nsteps=10000,ntemps=100):\n",
        "    '''output E vs T to check the code is functioning as expected'''\n",
        "    kTc = 2/np.log(1+np.sqrt(2)) #Curie temperature (critical temp)\n",
        "    kT = np.linspace(10**-5,2*kTc,num=ntemps)\n",
        "    E = [] #mean energy per spin at temp\n",
        "    \n",
        "    start = time.time()\n",
        "    for temp in kT:\n",
        "        spins=MCMC(temp,n,nsteps)\n",
        "        E.append(Emean(spins))\n",
        "    \n",
        "    #running mean for a window=1/10 of ntemps; take out 5 temp pts on both side\n",
        "    smoothE=np.convolve(E,np.ones((11,))/11,mode='valid')\n",
        "    smoothT=kT[5:-5]/kTc\n",
        "    \n",
        "    fig = plt.figure()\n",
        "    plt.plot(kT/kTc,E,'ob',label='<E> data')\n",
        "    plt.plot(smoothT,smoothE,'-r',label='running mean')\n",
        "    plt.title('mean energy per spin vs temperature')\n",
        "    plt.xlabel('T/Tc')\n",
        "    plt.ylabel('<E> per spin')\n",
        "    plt.legend(loc='best')\n",
        "    fig.savefig('EvsTforTesting.png')\n",
        "    end = time.time()\n",
        "    print('execution time = ',end-start)"
      ],
      "execution_count": 0,
      "outputs": []
    },
    {
      "cell_type": "markdown",
      "metadata": {
        "id": "1kHggsaDUYoz",
        "colab_type": "text"
      },
      "source": [
        "# Generate the spin distributions at given temperatures\n"
      ]
    },
    {
      "cell_type": "code",
      "metadata": {
        "id": "aSmMSB-b1qtG",
        "colab_type": "code",
        "colab": {}
      },
      "source": [
        "dim = 12#10 # spins per dimension\n",
        "nsteps = 40000#10000 # number of iterations in the Monte Carlo simulation\n",
        "ndata = 2000 # number of data for spin distributions at the same temperature \n",
        "#temperatures=[0.27, 1.27, 2.27, 3.27, 4.27]\n",
        "temperatures=[0.27, 2.27, 4.27]\n",
        "\n",
        "for temp in temperatures:\n",
        "    file='/content/gdrive/My Drive/IsingModel/t='+str(temp)+'.csv'\n",
        "    start = time.time()\n",
        "    with open(file,'ab+') as f:    \n",
        "        for j in range(ndata):\n",
        "            spins = MCMC(temp,dim,nsteps)\n",
        "            np.savetxt(f,spins,fmt='%i',delimiter=',')\n",
        "    end = time.time()\n",
        "    print('execution time = ',end-start)"
      ],
      "execution_count": 0,
      "outputs": []
    },
    {
      "cell_type": "markdown",
      "metadata": {
        "id": "mR2v1vBPBTAg",
        "colab_type": "text"
      },
      "source": [
        "Data represents spin distributions at fixed temperatures. Its dimensions (dim*ndata,dim) refer to data of spins on a dim by dim grid stacked up ndata times. The whole process of 5 different temperatures takes longer than 10 minutes.\n",
        "$$\\begin{align*}\n",
        "\\textrm{cost time (minutes)}&&\\textrm{dim}&&\\textrm{iterations}&&\\textrm{ndata}\\\\\n",
        "12 && 10 && 1e+4 && 2000\\\\\n",
        "25 && 20 && 2e+4 && 2000\\\\\n",
        "51 && 20 && 4e+4 && 2000\\\\\n",
        "\\end{align*}$$\n"
      ]
    },
    {
      "cell_type": "markdown",
      "metadata": {
        "id": "ez2j1l6ojDlW",
        "colab_type": "text"
      },
      "source": [
        "# Mean energy versus temperature\n",
        "To check this MCMC Ising model, I plot the mean spin energy versus temperature. The theoretical expectation is that the curve looks like a $tanh(T)$ function. The curve is almost flat at -2 and 2 for $T<T_C$ and $T>T_C$ respectively. Near $T_C$, there is a phase transition sharply increasing from -2 to 0.\n",
        "\n",
        "The phase trainsition is clear at $T=T_C$, and the running mean of data does look like the expected $tanh$, but data points spread far from the running mean because of the stochastic nature on a finite grid. Its possible to observe the system with excessive energy such that the spin distributions are identical even from two different temperatures. When building a neuro network to classify temperature from a given spin distribution, one shall keep in mind that the overlapped distributions from two temperature labels sets an upper bound on the achivable accuracy.\n"
      ]
    },
    {
      "cell_type": "code",
      "metadata": {
        "id": "CmCP7ENtG8MM",
        "colab_type": "code",
        "outputId": "5211927a-b332-4987-ebab-d86d020136d6",
        "colab": {
          "base_uri": "https://localhost:8080/",
          "height": 312
        }
      },
      "source": [
        "EvsT(10,10000,100)"
      ],
      "execution_count": 0,
      "outputs": [
        {
          "output_type": "stream",
          "text": [
            "execution time =  7.986135482788086\n"
          ],
          "name": "stdout"
        },
        {
          "output_type": "display_data",
          "data": {
            "image/png": "[encoded data removed]",
            "text/plain": [
              "<Figure size 432x288 with 1 Axes>"
            ]
          },
          "metadata": {
            "tags": []
          }
        }
      ]
    },
    {
      "cell_type": "markdown",
      "metadata": {
        "id": "UUYQXD0Dt9aE",
        "colab_type": "text"
      },
      "source": [
        "On the 10 by 10 grid, data points randomly spread far from the running mean. Several data points have higher energy even at a lower temperature."
      ]
    },
    {
      "cell_type": "code",
      "metadata": {
        "id": "54Rgk7mwH1xw",
        "colab_type": "code",
        "outputId": "d964c093-2516-4586-a7ab-2f506eb2072b",
        "colab": {
          "base_uri": "https://localhost:8080/",
          "height": 312
        }
      },
      "source": [
        "EvsT(20,40000,100)"
      ],
      "execution_count": 0,
      "outputs": [
        {
          "output_type": "stream",
          "text": [
            "execution time =  30.736976146697998\n"
          ],
          "name": "stdout"
        },
        {
          "output_type": "display_data",
          "data": {
            "image/png": "[encoded data removed]",
            "text/plain": [
              "<Figure size 432x288 with 1 Axes>"
            ]
          },
          "metadata": {
            "tags": []
          }
        }
      ]
    },
    {
      "cell_type": "markdown",
      "metadata": {
        "id": "HNsCFYj1tlLT",
        "colab_type": "text"
      },
      "source": [
        "We can see the data points shrinking towards the running mean with a finer  20 by 20 grid."
      ]
    }
  ]
}