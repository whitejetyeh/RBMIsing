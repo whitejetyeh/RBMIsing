{
  "nbformat": 4,
  "nbformat_minor": 0,
  "metadata": {
    "colab": {
      "name": "RBMrecommend(July 19).ipynb",
      "version": "0.3.2",
      "provenance": [],
      "collapsed_sections": [],
      "toc_visible": true,
      "include_colab_link": true
    },
    "kernelspec": {
      "name": "python3",
      "display_name": "Python 3"
    },
    "accelerator": "GPU"
  },
  "cells": [
    {
      "cell_type": "markdown",
      "metadata": {
        "id": "view-in-github",
        "colab_type": "text"
      },
      "source": [
        "<a href=\"https://colab.research.google.com/github/whitejetyeh/RBMIsing/blob/master/RBMrecommend(July_19).ipynb\" target=\"_parent\"><img src=\"https://colab.research.google.com/assets/colab-badge.svg\" alt=\"Open In Colab\"/></a>"
      ]
    },
    {
      "cell_type": "markdown",
      "metadata": {
        "id": "vzjTREZrcQEf",
        "colab_type": "text"
      },
      "source": [
        "# RBMrecommend\n",
        "\n",
        "Restrictive Boltzmann Machine (RBM) is an unsupervised learning, which automatically extracts features of stochastic binary distributions. Its application for collaborative filtering is in the leading position in the [Netflix prize](https://www.netflixprize.com/), see [Salakhutdinov et al., 2007](https://www.cs.toronto.edu/~rsalakhu/papers/rbmcf.pdf). Similar to recommend new movies to audiences according to their viewing record, by implementing RBM, this project RBMrecommend builds a recommendation system that automatically sorts products regarding their intrinsic features and classifies customers with feature preferences. \n",
        "\n",
        "Neither features of a product nor the preference of a customer is provided in the dataset. Data recorded purchased items of a customer, and RBMrecommend predicts whether the customer will buy another product based on his and other customers' purchase histories, i.e., collaborative filtering.\n",
        "\n",
        "RBM, in short, is a dynamical system of binary nodes on two layers, see ![pic](https://drive.google.com/open?id=1I6hbFZ9V3u8iKXpPVOqWJDcq4lvAPjF4). The system is determined by the energy\n",
        "$$E(v,h)=-b^{(v)}_iv^i-b^{(h)}_jh^j-v^iW_{ij}h^j,$$\n",
        "and the system has the probability \n",
        "$$p(v,h)=\\frac{e^{-E(v,h)}}{\\sum\\limits_{v,h}e^{-E(v,h)}}$$\n",
        "to be observed at the $(v,h)$ distribution of turned on nodes.\n",
        "Given a dataset $D$, the parameters $b^{(v)}$, $b^{(h)}$, and $W$ are molded by the general features of $D$ such that much frequently appearing patterns will have higher probabilities. An introduction of RBM can be found in [RBMIsing](https://colab.research.google.com/drive/1kEoVz9gX-RKd6VXEmARyT5RmSOA1ah3q#scrollTo=gf3xHXYRou0M).\n",
        "\n",
        "After training the RBM with the dataset $D$, one can feed the RBM with an input $V$, and $V$ in the RBM will evolve into $\\overline{V}$, which can be recognized in one reapperaing patterm similar to $V$. In this way, RBMrecommend automatically recognize a product's features and a customer's preferences from the customer's purchase history, and RBMrecommend can suggest an unknown product to the customer according to his taste.\n"
      ]
    },
    {
      "cell_type": "markdown",
      "metadata": {
        "id": "4nq0HLbIhLlL",
        "colab_type": "text"
      },
      "source": [
        "## Data generation\n",
        "\n",
        "To get an idea about how well RBMrecommend learns, we generated our data set artificially. We created a market of items with given performance on several features, and we know exactly how much does each customer value every feature.\n",
        "For example, consider 10,000 customers in a market with 100 items, and each item has scores of 5 features, we have the product profile as\n",
        "$$P=\\begin{array}{cccccc}\n",
        " && \\textrm{item}_1& \\textrm{item}_2& \\dots& \\\\\n",
        " \\begin{array}{c}\\textrm{feature}_A\\\\\\textrm{feature}_B\\\\\\vdots\\end{array}&\\Bigg(&\\begin{array}{c}1\\\\3\\\\\\vdots\\end{array}&\\begin{array}{c}2\\\\4\\\\\\vdots\\end{array}& \\begin{array}{c}\\dots\\\\\\dots\\\\\\ddots\\end{array}&\\Bigg) \n",
        "\\end{array}$$\n",
        "and the customer profile as\n",
        "$$C=\\begin{array}{cccccc}\n",
        " && \\textrm{frature}_A& \\textrm{frature}_B& \\dots& \\\\\n",
        " \\begin{array}{c}\\textrm{customer}_1\\\\\\textrm{customer}_2\\\\\\vdots\\end{array}&\\Bigg(&\\begin{array}{c}0.1\\\\0.5\\\\\\vdots\\end{array}&\\begin{array}{c}0.7\\\\0.3\\\\\\vdots\\end{array}& \\begin{array}{c}\\dots\\\\\\dots\\\\\\ddots\\end{array}&\\Bigg) \n",
        "\\end{array}.$$\n",
        "\n",
        "The items are purchased regarding to the scores in\n",
        "$$D_V=CP=\\begin{array}{cccccc}\n",
        " && \\textrm{item}_1& \\textrm{item}_2& \\dots& \\\\\n",
        " \\begin{array}{c}\\textrm{customer}_1\\\\\\textrm{customer}_2\\\\\\vdots\\end{array}&\\Bigg(&\\begin{array}{c}2.2\\\\1.4\\\\\\vdots\\end{array}&\\begin{array}{c}3\\\\2.2\\\\\\vdots\\end{array}& \\begin{array}{c}\\dots\\\\\\dots\\\\\\ddots\\end{array}&\\Bigg) \n",
        "\\end{array}.$$\n",
        "A customer randomly chooses to buy 10 items with high scores and to ignore other 10 items with low scores, and he is not aware of the rest items. \n",
        "\n",
        "Nevertheless, these profiles P and C are kept for evaluating our RBM but not provided for training. Just like an online marketplace, the dataset records a customer purchased an item or he browse other items without buying. The training dataset provided for RBMrecommend may look like\n",
        "$$D_T=\\begin{array}{cccccc}\n",
        " && \\textrm{item}_1& \\textrm{item}_2& \\dots& \\\\\n",
        " \\begin{array}{c}\\textrm{customer}_1\\\\\\textrm{customer}_2\\\\\\vdots\\end{array}&\\Bigg(&\\begin{array}{c}1\\\\?\\\\\\vdots\\end{array}&\\begin{array}{c}1\\\\0\\\\\\vdots\\end{array}& \\begin{array}{c}\\dots\\\\\\dots\\\\\\ddots\\end{array}&\\Bigg) \n",
        "\\end{array},$$\n",
        "where the entries $(1,0,?)$ stand for (like, dislike, unknown) respectively.\n",
        "\n",
        "**In reality, one does not know how to recognize features of items, or an item's score in a feature, or how a customer value different features.\n",
        "However, RBMrecommend is trained to recover the unknown entries in $D_{T}$ based on purchase record, so a customer learns if he will like an unknown item, and one learns a new product similar to some items will be popular or not.**\n",
        "\n",
        "Firstly, we explicitly generate the profiles of customers and products in the following code.\n"
      ]
    },
    {
      "cell_type": "code",
      "metadata": {
        "id": "dOA5D2d2HBwI",
        "colab_type": "code",
        "outputId": "11892d7e-c3d5-4603-c675-7a55bf6d187b",
        "colab": {
          "base_uri": "https://localhost:8080/",
          "height": 334
        }
      },
      "source": [
        "import pandas as pd\n",
        "import numpy as np\n",
        "import time\n",
        "import matplotlib.pyplot as plt\n",
        "\n",
        "''' create customer profiles '''\n",
        "ppl_number = 2000\n",
        "\n",
        "# alpha type interests in three features\n",
        "temp_mean = [0.8,0.7,0.6]\n",
        "temp_cov = [[0.05,0,0],[0,0.02,0],[0,0,0.03]] # std for 3 independent features\n",
        "temp_size = int(0.6*ppl_number) # 60% population\n",
        "np.random.seed(1)\n",
        "\n",
        "temp_score = np.random.multivariate_normal(temp_mean,temp_cov,temp_size)\n",
        "for f in range(3):\n",
        "    np.clip(temp_score[:,f],0,1,out=temp_score[:,f]) #bound normal distribution\n",
        "\n",
        "temp_data = {'type':['alpha']*temp_size,'F_A':temp_score[:,0],\n",
        "             'F_B':temp_score[:,1],'F_C':temp_score[:,2],\n",
        "             'F_D':[0]*temp_size,'F_E':[0]*temp_size}\n",
        "profile_C = pd.DataFrame(temp_data)\n",
        "\n",
        "# beta type interests in two features\n",
        "temp_mean = [0.7,0.7]\n",
        "temp_cov = [[0.03,0.01],[0.01,0.03]] # std for 2 dependent features\n",
        "temp_size = int(0.4*ppl_number) # 40% population\n",
        "np.random.seed(2)\n",
        "\n",
        "temp_score = np.random.multivariate_normal(temp_mean,temp_cov,temp_size)\n",
        "for f in range(2):\n",
        "    np.clip(temp_score[:,f],0,1,out=temp_score[:,f]) #bound normal distribution\n",
        "\n",
        "temp_data = {'type':['beta']*temp_size,'F_A':[0]*temp_size,\n",
        "             'F_B':[0]*temp_size,'F_C':temp_score[:,0],\n",
        "             'F_D':temp_score[:,1],'F_E':[0]*temp_size}\n",
        "profile_C = pd.concat([profile_C,pd.DataFrame(temp_data)]).reset_index(drop=True)\n",
        "\n",
        "# shuffle\n",
        "profile_C = profile_C.reindex(np.random.permutation(profile_C.index))\n",
        "\n",
        "# graphical output for illustration\n",
        "plt.scatter(temp_score[:, 0], temp_score[:, 1], s=7, cmap='autumn')\n",
        "plt.title('feature scores of customer type beta')\n",
        "plt.xlabel('Feature_C')\n",
        "plt.ylabel('Feature_D')\n",
        "plt.show()\n",
        "\n",
        "''' create product profiles '''\n",
        "item_number = 100\n",
        "\n",
        "# P_I type with three features\n",
        "temp_mean = [0.4,0.3,0.3]\n",
        "temp_cov = [[0.1,0,0],[0,0.02,0],[0,0,0.03]] # std for 3 independent features\n",
        "temp_size = int(0.5*item_number) # 50% of products\n",
        "np.random.seed(3)\n",
        "\n",
        "temp_score = np.random.multivariate_normal(temp_mean,temp_cov,temp_size)\n",
        "for f in range(3):\n",
        "    np.clip(temp_score[:,f],0,1,out=temp_score[:,f]) #bound normal distribution\n",
        "\n",
        "temp_data = {'type':['P_I']*temp_size,'F_A':temp_score[:,0],\n",
        "             'F_B':temp_score[:,1],'F_C':temp_score[:,2],\n",
        "             'F_D':[0]*temp_size,'F_E':[0]*temp_size}\n",
        "profile_P = pd.DataFrame(temp_data)\n",
        "\n",
        "# P_II type with two features\n",
        "temp_mean = [0.6,0.4]\n",
        "temp_cov = [[0.02,0.03],[0.03,0.02]] # std for 2 dependent features\n",
        "temp_size = int(0.4*item_number) # 40% of products\n",
        "np.random.seed(4)\n",
        "\n",
        "temp_score = np.random.multivariate_normal(temp_mean,temp_cov,temp_size)\n",
        "for f in range(2):\n",
        "    np.clip(temp_score[:,f],0,1,out=temp_score[:,f]) #bound normal distribution\n",
        "\n",
        "temp_data = {'type':['P_II']*temp_size,'F_A':[0]*temp_size,\n",
        "             'F_B':[0]*temp_size,'F_C':temp_score[:,0],\n",
        "             'F_D':temp_score[:,1],'F_E':[0]*temp_size}\n",
        "profile_P = pd.concat([profile_P,pd.DataFrame(temp_data)]).reset_index(drop=True)\n",
        "\n",
        "# P_III type with one feature\n",
        "temp_mean = 0.8\n",
        "temp_cov = 0.1 # std for a features\n",
        "temp_size = int(0.1*item_number) # 10% of products\n",
        "np.random.seed(5)\n",
        "\n",
        "temp_score = np.random.normal(temp_mean,temp_cov,temp_size)\n",
        "np.clip(temp_score,0,1,out=temp_score) #bound normal distribution\n",
        "\n",
        "temp_data = {'type':['P_III']*temp_size,'F_A':[0]*temp_size,\n",
        "             'F_B':[0]*temp_size,'F_C':[0]*temp_size,\n",
        "             'F_D':[0]*temp_size,'F_E':temp_score}\n",
        "profile_P = pd.concat([profile_P,pd.DataFrame(temp_data)]).reset_index(drop=True)\n",
        "\n",
        "# shuffle\n",
        "profile_P = profile_P.reindex(np.random.permutation(profile_P.index))"
      ],
      "execution_count": 0,
      "outputs": [
        {
          "output_type": "display_data",
          "data": {
            "image/png": "[encoded data removed]",
            "text/plain": [
              "<Figure size 432x288 with 1 Axes>"
            ]
          },
          "metadata": {
            "tags": []
          }
        },
        {
          "output_type": "stream",
          "text": [
            "/usr/local/lib/python3.6/dist-packages/ipykernel_launcher.py:73: RuntimeWarning: covariance is not symmetric positive-semidefinite.\n"
          ],
          "name": "stderr"
        }
      ]
    },
    {
      "cell_type": "markdown",
      "metadata": {
        "id": "aL2SjnU-slsG",
        "colab_type": "text"
      },
      "source": [
        "In summery, 2000 customers and 100 products are divided into types $\\alpha$ & $\\beta$ and types I, II, & III as the following.\n",
        "\n",
        "\\begin{array}{ |c|c|c|c|c|c| }\n",
        "\\hline\n",
        "\\textrm{class\\feature}&A&B&C&D&E\\\\\n",
        "\\hline\n",
        "\\alpha (60\\%) &0.8&0.7&0.6&0&0\\\\\\hline\n",
        "\\beta (40\\%)&0&0&0.7&0.7&0\\\\\\hline\n",
        "I(50\\%)&0.4&0.3&0.3&0&0\\\\\\hline\n",
        "II(40\\%)&0&0&0.6&0.4&0\\\\\\hline\n",
        "III(10\\%)&0&0&0&0&0.8\\\\\\hline\n",
        "\\end{array}\n",
        "In each class, customers or products have scores of a feature in normal distribution with the nonzero mean given in the table.\n",
        "\n",
        "For example, 40% of customers are type $\\beta$ interested in the features C & D, see the above plot, and the type II products are their favorite.\n",
        "Notice that a customer could have very low interests in any features. Low interested customers have low resolutions in products, i.e., they don't care much what they bought.\n",
        "All scores are scaled and bounded within [0,1] for training. \n",
        "\n",
        "Therefore, we anticipate that RBMrecommend predicts customers' interest in different products as the following.\n",
        "\\begin{array}{ |c|c|c|c| }\n",
        "\\hline\n",
        "\\textrm{customer\\product}&I(50\\%)&II(40\\%)&III(10\\%)\\\\\n",
        "\\hline\n",
        "\\alpha (60\\%) &\\textrm{high}&\\textrm{low}&\\textrm{reject}\\\\\\hline\n",
        "\\beta (40\\%)&\\textrm{low}&\\textrm{high}&\\textrm{reject}\\\\\\hline\n",
        "\\end{array}\n",
        "\n",
        "The training data consists of every customer's records over random 20 items. A customer records 1 if the item scores over 0.5 for him, otherwise 0. The rest 80 items are unknown to the customer."
      ]
    },
    {
      "cell_type": "code",
      "metadata": {
        "id": "D_G_rCv-G4pQ",
        "colab_type": "code",
        "outputId": "2524f4f0-b961-4f03-df2d-6aa7e0de094b",
        "colab": {
          "base_uri": "https://localhost:8080/",
          "height": 381
        }
      },
      "source": [
        "''' generate validation dataset;\n",
        "index/column refers to the customer/item'''\n",
        "start = time.time() # timing data generation\n",
        "\n",
        "# validation = D_V\n",
        "# interest score is clipped in [0,1].\n",
        "validation = profile_C.loc[:,'F_A':'F_E'].dot(profile_P.loc[:,'F_A':'F_E'].T).clip(0,1)\n",
        "\n",
        "# label 1 for scores higher than 0.5 else label 0\n",
        "validation_label = validation.applymap(lambda x:1 if x>0.5 else 0)\n",
        "\n",
        "print('Top rows of validation (D_V)')\n",
        "print(validation.head())\n",
        "\n",
        "''' generate train/test dataset;\n",
        "index/column refers to the customer/item ID'''\n",
        "# create null raw data in the same shape as validation\n",
        "raw_data = pd.DataFrame(index=validation.index, columns=validation.columns)\n",
        "\n",
        "# randomly fill training data w.r.t validation_label\n",
        "for i in range(ppl_number):\n",
        "    #randomly choose 20 entries out of validation_label in every row\n",
        "    temp_index = np.random.choice(item_number,20,replace=False)\n",
        "    raw_data.iloc[i,temp_index] = validation_label.iloc[i,temp_index]\n",
        "\n",
        "# split raw data into test and train subsets\n",
        "train_test_split = int(0.8*ppl_number)\n",
        "train_data = raw_data.iloc[:train_test_split]\n",
        "test_data = raw_data.iloc[train_test_split:]\n",
        "# validation labels\n",
        "train_label = validation_label.iloc[:train_test_split]\n",
        "test_label = validation_label.iloc[train_test_split:]\n",
        "end = time.time() # timing data generation\n",
        "\n",
        "print('\\n It takes ',end-start,'secs to generate data of ',ppl_number,'customers.')\n",
        "\n",
        "print('\\n Top rows of training data (D_T)')\n",
        "print(train_data.head())"
      ],
      "execution_count": 0,
      "outputs": [
        {
          "output_type": "stream",
          "text": [
            "Top rows of validation (D_V)\n",
            "            71        59        39  ...        75        77        44\n",
            "1582  0.821877  0.444590  0.089763  ...  0.432777  0.718286  0.121182\n",
            "885   0.710753  0.427727  1.000000  ...  0.302238  0.643758  1.000000\n",
            "1772  1.000000  0.556392  0.103074  ...  0.562881  0.907728  0.139151\n",
            "42    0.534996  0.321958  0.916180  ...  0.227500  0.484568  0.996947\n",
            "1306  1.000000  0.602196  0.136790  ...  0.551273  0.958447  0.184668\n",
            "\n",
            "[5 rows x 100 columns]\n",
            "\n",
            " It takes  11.666318416595459 secs to generate data of  2000 customers.\n",
            "\n",
            " Top rows of training data (D_T)\n",
            "       71   59   39   10   93   23   57  ...   84   30   47   65   75   77   44\n",
            "1582  NaN  NaN  NaN  NaN  NaN  NaN    1  ...  NaN  NaN    0  NaN  NaN  NaN  NaN\n",
            "885   NaN  NaN  NaN  NaN  NaN  NaN  NaN  ...  NaN  NaN    1    1  NaN  NaN  NaN\n",
            "1772  NaN  NaN  NaN  NaN    0  NaN  NaN  ...  NaN  NaN  NaN  NaN    1  NaN  NaN\n",
            "42    NaN  NaN  NaN  NaN    0  NaN  NaN  ...  NaN  NaN    1    0    0  NaN  NaN\n",
            "1306  NaN  NaN  NaN    1  NaN    0  NaN  ...  NaN  NaN  NaN  NaN  NaN  NaN  NaN\n",
            "\n",
            "[5 rows x 100 columns]\n"
          ],
          "name": "stdout"
        }
      ]
    },
    {
      "cell_type": "markdown",
      "metadata": {
        "id": "XRmvnbUihb-Z",
        "colab_type": "text"
      },
      "source": [
        "## RBM training\n",
        "\n",
        "A short introduction of RBM and the python code below can be found in [RBMIsing](https://colab.research.google.com/drive/1kEoVz9gX-RKd6VXEmARyT5RmSOA1ah3q#scrollTo=gf3xHXYRou0M). The code has been modified slightly to deal with the missing entries in the dataset.\n",
        "\n",
        "The common solution of missing data is to impute random values because the contribution from random values will eventually be even out after enough iterations in the Monte Carlo method.\n",
        "However, missing values consist of the major part in the recommender system, instead of imputing missing values, we choose to disconnect the missing visible nodes, see [Hinton, 2010](https://www.cs.toronto.edu/~hinton/absps/guideTR.pdf). \n",
        "As shown in ![pic](https://drive.google.com/open?id=1MmE1LrkYXd85WoY-bUXtFDwG24hGVHtR), the visible nodes missing data are isolated with no coupling to the hidden nodes. \n"
      ]
    },
    {
      "cell_type": "markdown",
      "metadata": {
        "id": "tHyEYyzyJ2qi",
        "colab_type": "text"
      },
      "source": [
        "### Python code for RBM\n",
        "RBMcdk is a class defined for restrictive boltzmann machine with CD-k method. \n",
        "One builds a model X with V and H variables in visible and hidden layers respectively by \n",
        "\n",
        "```\n",
        "X = RBMcdk(V,H).\n",
        "```\n",
        "The input data D with N samples of V-dimensional arrays shall be shaped as a 2D-array of (dim_0=N, dim_1=V).\n",
        "With CD-k method, one then trains the model X in N epochs with learning rate L by\n",
        "\n",
        "```\n",
        "X.contrastive_divergence(D,iterations=N,k=k).\n",
        "```\n",
        "\n",
        "After X is trained, Nd samples in a dataset Dd (dim_0=Nd, dim_1=V) can be processed into reconstructed Dd_recon by kd Gibbs steps with X by\n",
        "\n",
        "```\n",
        "Dd_recon = gibbs_sampling(Dd, X, k=kd, return_state).\n",
        "```\n",
        "\n",
        "For *return_state = V_gibbs, H_gibbs, or H_data*,  *gibbs_sampling* returns the gibbs visual state $v^{(k)}$, the gibbs hidden state $h^{(k)}$, or the data driven hidden state $h^{(0)}$ respectively.\n",
        "\n",
        "\n"
      ]
    },
    {
      "cell_type": "code",
      "metadata": {
        "id": "Vpb5Bx3lJd23",
        "colab_type": "code",
        "colab": {}
      },
      "source": [
        "import numpy as np\n",
        "import pandas as pd\n",
        "import matplotlib.pyplot as plt\n",
        "import time\n",
        "from scipy.special import expit # sigmoid\n",
        "\n",
        "# Functions useful in RBM\n",
        "def cond_prob(states, weight, bias):\n",
        "        # conditional probability\n",
        "        Nsamples = len(states)\n",
        "        stacked_bias = np.stack([bias for _ in range(Nsamples)],axis=0)\n",
        "        return expit(np.matmul(states, weight) + stacked_bias)\n",
        "    \n",
        "def MC_selection(probabilities):\n",
        "        # stochastically sample binary values with given probabilities\n",
        "        # compare probabilities P with a random tensor T in the same shape; \n",
        "        # return 1 for P > T or 0 for P <= T; P must be in [0,1].\n",
        "        coins = np.random.uniform(0,1,np.shape(probabilities))\n",
        "        return np.ceil(probabilities-coins)\n",
        "      \n",
        "def gibbs_sampling(dataframe, trained_rbm, k=1, return_state='V_gibbs',probability=False):    \n",
        "    '''adaption of missing data(NaN);\n",
        "       Input data was changed from ndarray to pandas' dataframe;\n",
        "       Modified lines are attached by comment #missing_data_adaption. '''\n",
        "    # data input = [v1,v2,...,vN] for N samples, v_dim = [visible_dim]\n",
        "        \n",
        "    # replace NaN in the dataframe by 0\n",
        "    data = dataframe.fillna(0).values #missing_data_adaption\n",
        "        \n",
        "    # data driven hidden layer\n",
        "    hidden_state = MC_selection(cond_prob(data, \n",
        "                                          trained_rbm.weight, \n",
        "                                          trained_rbm.hidden_bias)) \n",
        "            \n",
        "    #Gibbs sampling iteration for data reconstruction\n",
        "    #CD1\n",
        "    visible_gibbstate = cond_prob(hidden_state, \n",
        "                                  np.transpose(trained_rbm.weight), \n",
        "                                  trained_rbm.visible_bias)\n",
        "    hidden_gibbstate = cond_prob(visible_gibbstate, \n",
        "                                 trained_rbm.weight, \n",
        "                                 trained_rbm.hidden_bias)\n",
        "    #CDK>1\n",
        "    for j in range(k-1):        \n",
        "        visible_gibbstate = cond_prob(hidden_gibbstate, \n",
        "                                      np.transpose(trained_rbm.weight), \n",
        "                                      trained_rbm.visible_bias)\n",
        "        hidden_gibbstate = cond_prob(visible_gibbstate, \n",
        "                                     trained_rbm.weight, \n",
        "                                     trained_rbm.hidden_bias)\n",
        "    # reconstructed layers\n",
        "    if probability:\n",
        "        visible_gibbstate = visible_gibbstate\n",
        "        hidden_gibbstate = hidden_gibbstate\n",
        "    else:        \n",
        "        visible_gibbstate = MC_selection(visible_gibbstate)\n",
        "        hidden_gibbstate = MC_selection(hidden_gibbstate)\n",
        "    \n",
        "    if return_state == 'V_gibbs':\n",
        "        return visible_gibbstate\n",
        "    elif return_state == 'H_gibbs':\n",
        "        return hidden_gibbstate\n",
        "    elif return_state == 'H_data':\n",
        "        return hidden_state\n",
        "    else:\n",
        "        print('calling invalid return_state')\n",
        "        return visible_gibbstate\n",
        "      \n",
        "# statistical error in the hypothesis test\n",
        "def stat_error(prediction,validation):\n",
        "    # input two same dimensional pd.dataframes\n",
        "    F_N = np.nansum(validation.where(prediction != validation)) #False negative\n",
        "    F_P = np.nansum(0==validation.where(prediction != validation)) #False positive\n",
        "    N = validation.size\n",
        "    return (F_N+F_P)/N\n",
        "      \n",
        "# Building RBM\n",
        "class RBMcdk:\n",
        "    '''Restrctive Boltzmann Machine with CD_k method'''\n",
        "    def __init__(self, visible_dim, hidden_dim): \n",
        "      \n",
        "        #initialize weight and biases\n",
        "        np.random.seed(624) # fix the same random initial values\n",
        "        self.weight = np.random.normal(loc=0,scale=0.1,size=[visible_dim, hidden_dim])\n",
        "        self.visible_bias = np.random.uniform(low=0,high=1,size=[visible_dim])\n",
        "        self.hidden_bias = np.random.uniform(low=0,high=1,size=[hidden_dim])\n",
        "        \n",
        "    \n",
        "    def contrastive_divergence(self, dataframe, iterations, k=1, learning_rate=0.1, text_out=False):\n",
        "        '''adaption of missing data(NaN);\n",
        "        Input data was changed from ndarray to pandas' dataframe;\n",
        "        Modified lines are attached by comment #missing_data_adaption. '''\n",
        "        # data input = [v1,v2,...,vN] for N samples, v_dim = [visible_dim]\n",
        "        \n",
        "        # replace NaN in the dataframe by 0\n",
        "        data = dataframe.fillna(0).values #missing_data_adaption\n",
        "        \n",
        "        Nsamples = len(data)\n",
        "        print(\"Number of samples = \",Nsamples,\" with data dimension = \",len(data[0]))\n",
        "        \n",
        "        # count numbers of NaN in samples;\n",
        "        # e.g., visible dot [i] missed MIN[i] samples out of N samples\n",
        "        # Missing In N samples(MIN)\n",
        "        MIN = dataframe.isna().values.sum(axis=0) #missing_data_adaption\n",
        "        for missing in MIN:\n",
        "            if missing == Nsamples:\n",
        "                print('error message: no data in %d-th visual node.' % missing)\n",
        "                return\n",
        "        start = time.time() # timing training process\n",
        "                \n",
        "        \n",
        "        for i in range(iterations):\n",
        "                \n",
        "            # initialize data-driven hidden layer\n",
        "            # state dimensions = (Nsamples, layer dim)\n",
        "            self.hidden_state = MC_selection(cond_prob(data, \n",
        "                                                       self.weight, \n",
        "                                                       self.hidden_bias)) \n",
        "            \n",
        "            #Gibbs sampling iteration\n",
        "            #CD1\n",
        "            self.visible_gibbstate = cond_prob(self.hidden_state, \n",
        "                                               np.transpose(self.weight), \n",
        "                                               self.visible_bias)\n",
        "            self.hidden_gibbstate = cond_prob(self.visible_gibbstate, \n",
        "                                              self.weight, \n",
        "                                              self.hidden_bias)\n",
        "            #CDK>1\n",
        "            for j in range(k-1):\n",
        "                self.visible_gibbstate = cond_prob(self.hidden_gibbstate, \n",
        "                                                   np.transpose(self.weight), \n",
        "                                                   self.visible_bias)\n",
        "                self.hidden_gibbstate = cond_prob(self.visible_gibbstate, \n",
        "                                                  self.weight, \n",
        "                                                  self.hidden_bias)\n",
        "            \n",
        "            # update weight and biases Contrastive Divergence\n",
        "            \n",
        "            # <vh>_data\n",
        "            #vh_data = np.matmul(np.transpose(data),self.hidden_state)/Nsamples\n",
        "            vh_data = np.matmul(np.transpose(data),self.hidden_state)/\\\n",
        "            (Nsamples-MIN[:,None]) #missing_data_adaption\n",
        "            # <vh>_model\n",
        "            vh_model = np.matmul(np.transpose(self.visible_gibbstate),\n",
        "                                 self.hidden_gibbstate)/Nsamples\n",
        "            self.weight += learning_rate*(vh_data-vh_model) # weight update\n",
        "            \n",
        "            #v_data = np.mean(data,axis=0) # <v>_data\n",
        "            v_data = dataframe.mean(axis=0).values #missing_data_adaption\n",
        "            v_model = np.mean(self.visible_gibbstate,axis=0) # <v>_model\n",
        "            self.visible_bias += learning_rate*(v_data-v_model) # v_bias update\n",
        "            \n",
        "            h_data = np.mean(self.hidden_state,axis=0) # <h>_data\n",
        "            h_model = np.mean(self.hidden_gibbstate,axis=0) # <h>_model        \n",
        "            self.hidden_bias += learning_rate*(h_data-h_model) # h_bias update\n",
        "          \n",
        "        end = time.time() # timing training process\n",
        "        print('training completed within ',end-start)\n",
        "        \n",
        "        # save trained weight and biases for big data\n",
        "        if text_out:\n",
        "            file_name = time.localtime(time.time()) # use mins+secs as the name\n",
        "            file_name = str(file_name.tm_min)+str(file_name.tm_sec)\n",
        "            path = '/content/gdrive/My Drive/IsingModel/'\n",
        "                        \n",
        "            file_path = path+file_name+'_weight.csv'\n",
        "            with open(file_path,'wb+') as f:\n",
        "                np.savetxt(f,self.weight,fmt='%g',delimiter=',')\n",
        "                \n",
        "            file_path = path+file_name+'_vbias.csv'\n",
        "            with open(file_path,'wb+') as f:\n",
        "                np.savetxt(f,self.visible_bias,fmt='%g',delimiter=',')\n",
        "                \n",
        "            file_path = path+file_name+'_hbias.csv'\n",
        "            with open(file_path,'wb+') as f:\n",
        "                np.savetxt(f,self.hidden_bias,fmt='%g',delimiter=',')\n",
        "            print('Print model to %s_weight/bias.csv for big data' % (file_name,))"
      ],
      "execution_count": 0,
      "outputs": []
    },
    {
      "cell_type": "markdown",
      "metadata": {
        "id": "RRFwzAXpvoNi",
        "colab_type": "text"
      },
      "source": [
        "The error of reconstruction is computed in stat_error.\n",
        "\n",
        "```\n",
        "def stat_error(prediction,validation):\n",
        "    # input two same dimensional pd.dataframes\n",
        "    F_N = np.nansum(validation.where(prediction != validation)) #False negative\n",
        "    F_P = np.nansum(0==validation.where(prediction != validation)) #False positive\n",
        "    N = validation.size\n",
        "    return (F_N+F_P)/N\n",
        "```\n",
        "In the sense of statistical hypothesis test, the error is defined as the ratio of the sum of false positive and false negative predictions over total predictions, where false positive/negative prediction means RBMrecommend falsely predicts 1/0.\n"
      ]
    },
    {
      "cell_type": "markdown",
      "metadata": {
        "id": "aNOLyp-jKOxA",
        "colab_type": "text"
      },
      "source": [
        "### RBM training\n",
        "\n",
        "With 50 hidden nodes and 500 iterations, RBMrecommend achieves 80+% accuracy after training in half a minute."
      ]
    },
    {
      "cell_type": "code",
      "metadata": {
        "id": "kFfti-XCYhKN",
        "colab_type": "code",
        "outputId": "81905c05-6494-4d7a-d8dd-2b2c381a26be",
        "colab": {
          "base_uri": "https://localhost:8080/",
          "height": 69
        }
      },
      "source": [
        "'''RBM training'''\n",
        "# set a RBM with 100 visible nodes and 50 hidden nodes\n",
        "RBMrecommend = RBMcdk(100,50)\n",
        "\n",
        "# put data in RBM with CDk method\n",
        "RBMrecommend.contrastive_divergence(train_data,iterations=400,k=2)\n",
        "\n",
        "# error between train_label and predictions based on train_data\n",
        "MC_train_label = pd.DataFrame(MC_selection(RBMrecommend.visible_gibbstate),\n",
        "                              index=train_data.index,\n",
        "                              columns=train_data.columns) #Monte Carlo selection\n",
        "train_error = stat_error(MC_train_label,train_label)\n",
        "print('Reconstructed input has error = ',train_error)"
      ],
      "execution_count": 0,
      "outputs": [
        {
          "output_type": "stream",
          "text": [
            "Number of samples =  1600  with data dimension =  100\n",
            "training completed within  20.242817640304565\n",
            "Reconstructed input has error =  0.16783125\n"
          ],
          "name": "stdout"
        }
      ]
    },
    {
      "cell_type": "code",
      "metadata": {
        "id": "POxO9HR5Gn4M",
        "colab_type": "code",
        "outputId": "d83bf78f-d896-4ace-b731-9437d16da4c8",
        "colab": {
          "base_uri": "https://localhost:8080/",
          "height": 69
        }
      },
      "source": [
        "'''Based on the pre-trained model above, we can add another 100 iterations to \n",
        "see the improved error for total 500 iterations.'''\n",
        "# put data in RBM with CDk method\n",
        "RBMrecommend.contrastive_divergence(train_data,iterations=100,k=2)\n",
        "\n",
        "# error between train_label and predictions based on train_data\n",
        "MC_train_label = pd.DataFrame(MC_selection(RBMrecommend.visible_gibbstate),\n",
        "                              index=train_data.index,\n",
        "                              columns=train_data.columns) #Monte Carlo selection\n",
        "train_error = stat_error(MC_train_label,train_label)\n",
        "print('Reconstructed input has error = ',train_error)\n"
      ],
      "execution_count": 0,
      "outputs": [
        {
          "output_type": "stream",
          "text": [
            "Number of samples =  1600  with data dimension =  100\n",
            "training completed within  5.375041484832764\n",
            "Reconstructed input has error =  0.16735625\n"
          ],
          "name": "stdout"
        }
      ]
    },
    {
      "cell_type": "markdown",
      "metadata": {
        "id": "Yro4VEBqHq2H",
        "colab_type": "text"
      },
      "source": [
        "Since the error isn't improved much with more iterations, the training is sufficient."
      ]
    },
    {
      "cell_type": "markdown",
      "metadata": {
        "id": "SO6HucEqhpPF",
        "colab_type": "text"
      },
      "source": [
        "## Prediction and validation\n"
      ]
    },
    {
      "cell_type": "code",
      "metadata": {
        "id": "_2tkIBkDt-I2",
        "colab_type": "code",
        "outputId": "fab530bf-a8a1-4293-c9de-20b033feeb30",
        "colab": {
          "base_uri": "https://localhost:8080/",
          "height": 318
        }
      },
      "source": [
        "'''Validation'''\n",
        "# compare prediction over test_data with validation_label\n",
        "reconstruction_data = pd.DataFrame(gibbs_sampling(test_data, RBMrecommend, k=5),\n",
        "                                   index=test_data.index,\n",
        "                                   columns=test_data.columns)\n",
        "test_error = stat_error(reconstruction_data,test_label)\n",
        "print('Validation with test dataset has error = ',test_error)\n",
        "\n",
        "# an example of predictions\n",
        "C_ID = np.random.choice(test_data.index) # a random customer in test_data\n",
        "temp_data = test_data.loc[C_ID].to_frame().T # visible input\n",
        "temp_prediction = pd.DataFrame(gibbs_sampling(temp_data,RBMrecommend,k=10),\n",
        "                               columns=temp_data.columns,index={C_ID})\n",
        "temp_validation = test_label.loc[C_ID].to_frame().T\n",
        "temp_probability = pd.DataFrame(gibbs_sampling(\n",
        "                                temp_data,RBMrecommend,k=10,probability=True),\n",
        "                                columns=temp_data.columns,index={C_ID})\n",
        "\n",
        "# hypothesis testing\n",
        "# note: df.where leaves df's entries at true and NaN at false\n",
        "T_P = np.nansum(temp_validation.where(\n",
        "                temp_prediction==temp_validation)).astype(int) #True positive\n",
        "T_N = np.nansum(temp_validation.where(\n",
        "                temp_prediction==temp_validation)==0).astype(int) #True negative\n",
        "F_N = np.nansum(temp_validation.where(\n",
        "                temp_prediction!=temp_validation)).astype(int) #False negative\n",
        "F_P = np.nansum(temp_validation.where(\n",
        "                temp_prediction!=temp_validation)==0).astype(int) #False positive\n",
        "\n",
        "temp_statistics = [T_P,T_N,F_P,F_N]\n",
        "temp_label = ['True Positive','True Negative','False Positive','False Negative']\n",
        "plt.barh(temp_label, temp_statistics)\n",
        "plt.yticks(temp_label,fontsize=15,color='green')\n",
        "plt.title('Hypothesis testing of No.%d customer in test data' % C_ID,\n",
        "          fontsize=15,color='green')\n",
        "for y,x in enumerate(temp_statistics):\n",
        "    plt.text(x,y,temp_statistics[y])\n",
        "plt.show()\n",
        "\n",
        "print('prediction error = ',(F_N+F_P)/item_number)"
      ],
      "execution_count": 0,
      "outputs": [
        {
          "output_type": "stream",
          "text": [
            "Validation with test dataset has error =  0.174125\n"
          ],
          "name": "stdout"
        },
        {
          "output_type": "display_data",
          "data": {
            "image/png": "[encoded data removed]",
            "text/plain": [
              "<Figure size 432x288 with 1 Axes>"
            ]
          },
          "metadata": {
            "tags": []
          }
        },
        {
          "output_type": "stream",
          "text": [
            "prediction error =  0.12\n"
          ],
          "name": "stdout"
        }
      ]
    },
    {
      "cell_type": "markdown",
      "metadata": {
        "id": "sm0FAn7a8BZ5",
        "colab_type": "text"
      },
      "source": [
        "The error in the validation represents the percentage of false predictions.\n",
        "The raw dataset of 2000 customers has been divided into 80% training dataset and 20% test dataset so that we can validate RBMrecommend with test data unknown to the model during the training.\n",
        "\n",
        "The bar chart shows the statistics of predictions for a random customer in the test dataset. Positive/negative means RBMrecommend predicts 1/0, and true/false means the prediction is correct/incorrect. "
      ]
    },
    {
      "cell_type": "markdown",
      "metadata": {
        "id": "RfU1_XBEol4G",
        "colab_type": "text"
      },
      "source": [
        "After training RBMrecommend, we can predict if the customer X will like product Y or not.  From our artifitial dataset, we know the exact interest score of customer X regarding product Y."
      ]
    },
    {
      "cell_type": "code",
      "metadata": {
        "id": "SqH8xrHjqC8u",
        "colab_type": "code",
        "outputId": "dfc089be-ed90-4cfd-d243-1287fe16f15e",
        "colab": {
          "base_uri": "https://localhost:8080/",
          "height": 316
        }
      },
      "source": [
        "P_ID = np.random.choice(test_data.columns) # a random product in test_data\n",
        "\n",
        "print('scores of customer taste: \\n',profile_C.loc[C_ID])\n",
        "print('scores of product feature: \\n',profile_P.loc[P_ID])\n",
        "print('Artifitial data knows the interest score is ', validation.loc[C_ID,P_ID])"
      ],
      "execution_count": 0,
      "outputs": [
        {
          "output_type": "stream",
          "text": [
            "scores of customer taste: \n",
            " type        beta\n",
            "F_A            0\n",
            "F_B            0\n",
            "F_C     0.475505\n",
            "F_D     0.784761\n",
            "F_E            0\n",
            "Name: 1449, dtype: object\n",
            "scores of product feature: \n",
            " type         P_I\n",
            "F_A     0.613838\n",
            "F_B     0.335226\n",
            "F_C     0.411399\n",
            "F_D            0\n",
            "F_E            0\n",
            "Name: 25, dtype: object\n",
            "Artifitial data knows the interest score is  0.19562235699749914\n"
          ],
          "name": "stdout"
        }
      ]
    },
    {
      "cell_type": "markdown",
      "metadata": {
        "id": "wLynGdz1qHba",
        "colab_type": "text"
      },
      "source": [
        "Given customers will like a product if the interest score is higher than 0.5. RBMrecommend first predicts the interest score P and then the customer's decision according to the probability P."
      ]
    },
    {
      "cell_type": "code",
      "metadata": {
        "id": "yNjKjvjmJ_Cu",
        "colab_type": "code",
        "outputId": "e53c1131-2e01-43a1-b9b9-42d96148baab",
        "colab": {
          "base_uri": "https://localhost:8080/",
          "height": 70
        }
      },
      "source": [
        "print('RBMrecommend predicts interest score P = ',temp_probability.loc[C_ID,P_ID])\n",
        "\n",
        "if temp_prediction.loc[C_ID,P_ID]:\n",
        "    temp_word = 'like'\n",
        "else:\n",
        "    temp_word = 'not like'\n",
        "print('RBMrecommend predicts this type %s customer %d will %s the type %s product %d.' %\n",
        "      (profile_C.loc[C_ID,'type'],C_ID,temp_word,profile_P.loc[P_ID,'type'],P_ID))\n",
        "\n",
        "if temp_prediction.loc[C_ID,P_ID]==validation_label.loc[C_ID,P_ID]:\n",
        "    temp_word = 'correct'\n",
        "else:\n",
        "    temp_word = 'incorrect'\n",
        "print('This prediction is %s.' % temp_word)"
      ],
      "execution_count": 0,
      "outputs": [
        {
          "output_type": "stream",
          "text": [
            "RBMrecommend predicts interest score P =  0.003856746654047446\n",
            "RBMrecommend predicts this type beta customer 1449 will not like the type P_I product 25.\n",
            "This prediction is correct.\n"
          ],
          "name": "stdout"
        }
      ]
    },
    {
      "cell_type": "markdown",
      "metadata": {
        "id": "WDBYIprrCKRn",
        "colab_type": "text"
      },
      "source": [
        "Notice that prediction goes through the Monte Carlo process, and the predicted interest score represents a possibility, so even if the predicted score is close to the recorded score, there is a slight chance of the wrong prediction."
      ]
    }
  ]
}