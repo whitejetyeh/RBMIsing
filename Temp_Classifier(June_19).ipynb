{
  "nbformat": 4,
  "nbformat_minor": 0,
  "metadata": {
    "colab": {
      "name": "Temp Classifier(June 19).ipynb",
      "version": "0.3.2",
      "provenance": [],
      "collapsed_sections": [],
      "toc_visible": true,
      "include_colab_link": true
    },
    "kernelspec": {
      "name": "python3",
      "display_name": "Python 3"
    },
    "accelerator": "GPU"
  },
  "cells": [
    {
      "cell_type": "markdown",
      "metadata": {
        "id": "view-in-github",
        "colab_type": "text"
      },
      "source": [
        "<a href=\"https://colab.research.google.com/github/whitejetyeh/RBMIsing/blob/master/Temp_Classifier(June_19).ipynb\" target=\"_parent\"><img src=\"https://colab.research.google.com/assets/colab-badge.svg\" alt=\"Open In Colab\"/></a>"
      ]
    },
    {
      "cell_type": "markdown",
      "metadata": {
        "id": "5W5FSne7yXC5",
        "colab_type": "text"
      },
      "source": [
        "#Temperature Classifier\n",
        "With dataset from groups of spin distributions at different temperatures, this neural network, Temp_Classifier is trained to classify spin distributions into given temperature labels. Spin distributions are generated from Markov-Chain-Monte-Carlo Ising Model on on a $N_s$ by $N_s$ grid.\n",
        "\n",
        "\n",
        "Temp_Classifier can be pretty accurate 98+% with 1. enough neurons and layers, 2. finer grid, and 3. large gaps between temp labels. The last two points come from the nature of stochastic distributions, where we can spot identical spin distributions at different temperatures on a finite dimensional grid.\n",
        "\n",
        "\n",
        "2D Ising model has the critical temperature $T_C\\approx 2.27$. Below or above $T_C$, the system is in the ferromagnetic phase or the paramagnetic phase. The clear visual feature difference is the characteristic length, which refers to the size of a group of the same spin on the grid. At lower temperature, one spots larger groups of the same spin while up/down spins are much uniformly mixed up at higher temperature. Spin data in five temp_labels (0.27, 1.27, 2.27, 3.27, 4.27) are used here. \n",
        "\n",
        "Temp_Classifiers are named by $(N_s^2, N_{h}^{(1)}, N_{h}^{(2)},...,N_{l})$, where $(N_s, N_h^{(i)}, N_l)$ refer to (# of spins per dim, # of neurons on the i-th hidden layer, # of temp labels). One can easily build and test various temp_classifiers in different layers with **keras** in the following code. The accuracy of few classifiers are listed below.\n",
        "$$\\begin{align*}\n",
        "\\textrm{temp_classifier}&&\\textrm{test accuracy   }&&\\textrm{train accuracy}\\\\\n",
        "(20^2,512,1024,5) && 0.76 && 0.91\\\\\n",
        "(20^2,512,1024,3) && 0.98 && 1\\\\\n",
        "(10^2,256,512,3) && 0.97 && 0.99\\\\\n",
        "(10^2,256,512,5) && 0.64 && 0.81 \\end{align*}$$\n",
        "\n",
        "Temp_classifier $(10^2,256,512,5)$ is presented below, and we can see how overlapped distributions in different labels blur the classifier and limit the accuracy."
      ]
    },
    {
      "cell_type": "markdown",
      "metadata": {
        "id": "Dz1fuerJy7qa",
        "colab_type": "text"
      },
      "source": [
        "## Acquire data\n",
        "\n",
        "\n",
        "1.   read data from google drive\n",
        "2.   reshape and label data\n",
        "\n"
      ]
    },
    {
      "cell_type": "code",
      "metadata": {
        "id": "aeGzfcfWyWHP",
        "colab_type": "code",
        "outputId": "e94ca38b-f8f5-4ddd-a092-bd549b0e1186",
        "colab": {
          "base_uri": "https://localhost:8080/",
          "height": 55
        }
      },
      "source": [
        "from google.colab import drive\n",
        "drive.mount('/content/gdrive')"
      ],
      "execution_count": 0,
      "outputs": [
        {
          "output_type": "stream",
          "text": [
            "Drive already mounted at /content/gdrive; to attempt to forcibly remount, call drive.mount(\"/content/gdrive\", force_remount=True).\n"
          ],
          "name": "stdout"
        }
      ]
    },
    {
      "cell_type": "markdown",
      "metadata": {
        "id": "E4JYRvITwFEz",
        "colab_type": "text"
      },
      "source": [
        "Import libraries needed for the computation"
      ]
    },
    {
      "cell_type": "code",
      "metadata": {
        "id": "hpGr_NOifD6i",
        "colab_type": "code",
        "outputId": "060fd872-c7f6-4b2e-c656-4dc979cbc6a1",
        "colab": {
          "base_uri": "https://localhost:8080/",
          "height": 35
        }
      },
      "source": [
        "# TensorFlow and tf.keras\n",
        "import tensorflow as tf\n",
        "from tensorflow import keras\n",
        "\n",
        "# Helper libraries\n",
        "import numpy as np\n",
        "import matplotlib.pyplot as plt\n",
        "import time\n",
        "import os.path\n",
        "\n",
        "print(tf.__version__)\n",
        "\n"
      ],
      "execution_count": 0,
      "outputs": [
        {
          "output_type": "stream",
          "text": [
            "1.14.0-rc1\n"
          ],
          "name": "stdout"
        }
      ]
    },
    {
      "cell_type": "markdown",
      "metadata": {
        "id": "BdluHFrMLsGf",
        "colab_type": "text"
      },
      "source": [
        "The following code loads and processes raw data of spin distributions, which come from \n",
        "[MCMC Ising Model](https://drive.google.com/open?id=1GTzxGebfb-vao0J4q_CzSwC3SPmWakAd).\n",
        "\n",
        "Raw data in each csv file labeled by temperature save 2000 samples of spin distribution on a $N_s$ by $N_s$ grid in the shape of $(2000*N_s,N_s)$, and they need to be reshaped into $(2000,N_s,N_s)$ for **Keras** to read.\n",
        "\n",
        "Train_data and test_data are two independent datasets consisted of stacked up raw data. Train_data is randomly shuffled for training the model so the gradient descent method will less likely be stuck at the local minima, and test_data is for validation."
      ]
    },
    {
      "cell_type": "code",
      "metadata": {
        "id": "_28JjQuqzXbb",
        "colab_type": "code",
        "colab": {}
      },
      "source": [
        "# given temperature labels from data set\n",
        "temperatures=[0.27, 1.27, 2.27, 3.27, 4.27]\n",
        "#temperatures=[0.27, 2.27, 4.27]\n",
        "\n",
        "# Load spin data from CSV file\n",
        "def acquire_spin_data(file, dataset):    \n",
        "    raw_data = np.loadtxt(file,delimiter=\",\")\n",
        "    raw_data = (raw_data+1)/2 # scale data from spin=(1,-1) to (1,0)\n",
        "    raw_data=raw_data.reshape((2000,10,10)) # reshape to 2k data of 10^2 grid\n",
        "    #raw_data=raw_data.reshape((2000,20,20)) # reshape to 2k data of 20^2 grid\n",
        "    # tensor_util.py in tf takes only plain python lists or tuples but not numpy arrays\n",
        "    raw_data=raw_data.astype(np.float32).tolist() \n",
        "    dataset.extend(raw_data)\n",
        "\n",
        "train_data, test_data = [], []\n",
        "train_labels, test_labels = [], []\n",
        "ind = 0 # counter for the labels\n",
        "for temp in temperatures:\n",
        "    train_file = '/content/gdrive/My Drive/IsingModel/training2k/t='+str(temp)+'.csv'\n",
        "    test_file = '/content/gdrive/My Drive/IsingModel/validation2k/t='+str(temp)+'.csv'\n",
        "    acquire_spin_data(train_file, train_data)\n",
        "    acquire_spin_data(test_file, test_data)\n",
        "    train_labels += [ind]*2000\n",
        "    test_labels += [ind]*2000\n",
        "    ind += 1\n",
        "\n",
        "# shuffle dataset and labels simutaneously\n",
        "# array indexing\n",
        "def unity_shuffled_copies(a, b):\n",
        "    assert len(a) == len(b)\n",
        "    p = np.random.permutation(len(a))\n",
        "    return a[p], b[p]\n",
        "\n",
        "train_data,train_labels=unity_shuffled_copies(np.array(train_data),np.array(train_labels))\n"
      ],
      "execution_count": 0,
      "outputs": []
    },
    {
      "cell_type": "markdown",
      "metadata": {
        "id": "Uvcdcce9gd7N",
        "colab_type": "text"
      },
      "source": [
        "## Explore data\n",
        "Take a look at spin distributions from the training dataset.\n",
        "16 spin distributions with their temperatures denoted below are presented.\n",
        "\n",
        "It's clear to see the larger characteristic length at lower temperature, i.e. larger block of same spin in the plot."
      ]
    },
    {
      "cell_type": "code",
      "metadata": {
        "id": "X8q57PZjQSxW",
        "colab_type": "code",
        "outputId": "19402666-81c0-4344-ba7e-31a6dd63d840",
        "colab": {
          "base_uri": "https://localhost:8080/",
          "height": 592
        }
      },
      "source": [
        "# plot 16 spin distributions from the training dataset\n",
        "np.random.seed(1)\n",
        "ind=np.random.randint(0,1999) #pick random 16 data\n",
        "plt.figure(figsize=(10,10))\n",
        "for i in range(16):\n",
        "    plt.subplot(4,4,i+1)\n",
        "    plt.xticks([])\n",
        "    plt.yticks([])\n",
        "    plt.imshow(train_data[ind+i], cmap=plt.cm.binary)\n",
        "    plt.xlabel(temperatures[train_labels[ind+i]])\n",
        "plt.show()"
      ],
      "execution_count": 0,
      "outputs": [
        {
          "output_type": "display_data",
          "data": {
            "image/png": "[encoded data removed]",
            "text/plain": [
              "<Figure size 720x720 with 16 Axes>"
            ]
          },
          "metadata": {
            "tags": []
          }
        }
      ]
    },
    {
      "cell_type": "markdown",
      "metadata": {
        "id": "emIgKwhdbfjn",
        "colab_type": "text"
      },
      "source": [
        "## Overlapped distribution figures\n",
        "\n",
        "\n",
        "Notice that we might find the same spin distribution in two temperature classes. \n",
        "In particular, it's easy to find the all up/down (all black or white) distribution can appear at both t=0.27 and t=1.27. The overlapped distributions limit the accuracy of the classifier on a finite grid, and therefore the temperature difference between labels can't be too small. In this case of 10 by 10 grid, we can only specify $t=\\{0.27,1.27,2.27,3.27,4.27\\}$ with accuracy 64%, but the accuracy becomes 97% with less labels $t=\\{0.27,2.27,4.27\\}$."
      ]
    },
    {
      "cell_type": "markdown",
      "metadata": {
        "id": "izzG2KuPeEU9",
        "colab_type": "text"
      },
      "source": [
        "# Neural Network\n",
        "\n",
        "\n",
        "1.   visible layer: 100 neurons for spins on the 10 by 10 grid (upgrated to 20 x 20)\n",
        "2.   hidden layer: 64 neurons with activation function = tanh\n",
        "3.   output layer: 5 neurons for 5 temperatures with activation function = softmax\n",
        "4.   cost function: cross entropy\n",
        "5.   gradient descent: learning rate=0.1 for 7000 epochs\n",
        "\n",
        "\n",
        "Options for the optimizer could be adam, sgd, RMSprop,...etc; computation time and accuracy are not significantly different. Wtih 70 epochs, the accuracy in the training data can achieve near 90%, and the accuracy in the validation data is about 60~70%. \n",
        "Here, adam converges faster, but sgd achieves higher accuracy. Since the number of required epochs is quite small, we prefer sgd over adam.\n"
      ]
    },
    {
      "cell_type": "markdown",
      "metadata": {
        "id": "O21APqgSQbMl",
        "colab_type": "text"
      },
      "source": [
        "## Model Construction\n",
        "This example has four layers. First input layer takes flatten spin distributions on a 10 by 10 grid. The next two layers have 256 and 512 neurons with activation function **relu**. One can change relu to tanh or sigmoid, and the difference is insignificant. The last layer with **softmax** outputs the probabilities of corresponding temp labels. Finally, the loss function is **sgd**. In this case, sgd works better than the usual adam."
      ]
    },
    {
      "cell_type": "code",
      "metadata": {
        "id": "DltrqXnof_U0",
        "colab_type": "code",
        "colab": {}
      },
      "source": [
        "# set up the layers\n",
        "model = keras.Sequential([\n",
        "    keras.layers.Flatten(input_shape=(10, 10)),\n",
        "    keras.layers.Dense(256, activation=tf.nn.relu),\n",
        "    keras.layers.Dense(512, activation=tf.nn.relu),\n",
        "    keras.layers.Dense(5, activation=tf.nn.softmax)\n",
        "])\n",
        "\n",
        "# compile the model\n",
        "model.compile(optimizer='sgd', \n",
        "              loss='sparse_categorical_crossentropy',\n",
        "              metrics=['accuracy'])\n"
      ],
      "execution_count": 0,
      "outputs": []
    },
    {
      "cell_type": "markdown",
      "metadata": {
        "id": "eEfFyTl7QXfU",
        "colab_type": "text"
      },
      "source": [
        "## Model Training\n",
        "\n",
        "The training doesn't take longer than a minute. By looking at accuracy of each epoch, 70 epochs is enough to reach a steady result with a small fluctuation."
      ]
    },
    {
      "cell_type": "code",
      "metadata": {
        "id": "ZUsdsQOW2OcM",
        "colab_type": "code",
        "outputId": "5aa02443-d2ad-485d-eefd-144d3fa870d3",
        "colab": {
          "base_uri": "https://localhost:8080/",
          "height": 2534
        }
      },
      "source": [
        "# train the model in numpy arrays\n",
        "start = time.time() # timing training process\n",
        "model.fit(train_data,train_labels, epochs=70)\n",
        "end = time.time() # timing training process\n",
        "print('training time takes ',end-start)\n",
        "\n",
        "# evaluate accuracy\n",
        "test_loss, test_acc = model.evaluate(np.array(test_data),test_labels)\n",
        "print('Test accuracy:', test_acc)"
      ],
      "execution_count": 0,
      "outputs": [
        {
          "output_type": "stream",
          "text": [
            "Epoch 1/70\n",
            "10000/10000 [==============================] - 1s 63us/sample - loss: 1.4650 - acc: 0.3665\n",
            "Epoch 2/70\n",
            "10000/10000 [==============================] - 1s 60us/sample - loss: 1.3178 - acc: 0.4088\n",
            "Epoch 3/70\n",
            "10000/10000 [==============================] - 1s 58us/sample - loss: 1.2328 - acc: 0.4405\n",
            "Epoch 4/70\n",
            "10000/10000 [==============================] - 1s 60us/sample - loss: 1.1572 - acc: 0.4732\n",
            "Epoch 5/70\n",
            "10000/10000 [==============================] - 1s 60us/sample - loss: 1.0878 - acc: 0.5237\n",
            "Epoch 6/70\n",
            "10000/10000 [==============================] - 1s 61us/sample - loss: 1.0205 - acc: 0.5674\n",
            "Epoch 7/70\n",
            "10000/10000 [==============================] - 1s 63us/sample - loss: 0.9579 - acc: 0.5984\n",
            "Epoch 8/70\n",
            "10000/10000 [==============================] - 1s 60us/sample - loss: 0.9021 - acc: 0.6158\n",
            "Epoch 9/70\n",
            "10000/10000 [==============================] - 1s 62us/sample - loss: 0.8533 - acc: 0.6312\n",
            "Epoch 10/70\n",
            "10000/10000 [==============================] - 1s 60us/sample - loss: 0.8107 - acc: 0.6373\n",
            "Epoch 11/70\n",
            "10000/10000 [==============================] - 1s 62us/sample - loss: 0.7746 - acc: 0.6468\n",
            "Epoch 12/70\n",
            "10000/10000 [==============================] - 1s 63us/sample - loss: 0.7462 - acc: 0.6523\n",
            "Epoch 13/70\n",
            "10000/10000 [==============================] - 1s 61us/sample - loss: 0.7240 - acc: 0.6556\n",
            "Epoch 14/70\n",
            "10000/10000 [==============================] - 1s 61us/sample - loss: 0.7049 - acc: 0.6609\n",
            "Epoch 15/70\n",
            "10000/10000 [==============================] - 1s 61us/sample - loss: 0.6873 - acc: 0.6663\n",
            "Epoch 16/70\n",
            "10000/10000 [==============================] - 1s 61us/sample - loss: 0.6742 - acc: 0.6714\n",
            "Epoch 17/70\n",
            "10000/10000 [==============================] - 1s 61us/sample - loss: 0.6621 - acc: 0.6769\n",
            "Epoch 18/70\n",
            "10000/10000 [==============================] - 1s 60us/sample - loss: 0.6509 - acc: 0.6720\n",
            "Epoch 19/70\n",
            "10000/10000 [==============================] - 1s 61us/sample - loss: 0.6423 - acc: 0.6751\n",
            "Epoch 20/70\n",
            "10000/10000 [==============================] - 1s 60us/sample - loss: 0.6323 - acc: 0.6791\n",
            "Epoch 21/70\n",
            "10000/10000 [==============================] - 1s 61us/sample - loss: 0.6233 - acc: 0.6869\n",
            "Epoch 22/70\n",
            "10000/10000 [==============================] - 1s 59us/sample - loss: 0.6157 - acc: 0.6896\n",
            "Epoch 23/70\n",
            "10000/10000 [==============================] - 1s 60us/sample - loss: 0.6087 - acc: 0.6948\n",
            "Epoch 24/70\n",
            "10000/10000 [==============================] - 1s 62us/sample - loss: 0.6002 - acc: 0.7019\n",
            "Epoch 25/70\n",
            "10000/10000 [==============================] - 1s 59us/sample - loss: 0.5927 - acc: 0.6993\n",
            "Epoch 26/70\n",
            "10000/10000 [==============================] - 1s 61us/sample - loss: 0.5875 - acc: 0.7023\n",
            "Epoch 27/70\n",
            "10000/10000 [==============================] - 1s 60us/sample - loss: 0.5808 - acc: 0.7104\n",
            "Epoch 28/70\n",
            "10000/10000 [==============================] - 1s 62us/sample - loss: 0.5759 - acc: 0.7081\n",
            "Epoch 29/70\n",
            "10000/10000 [==============================] - 1s 60us/sample - loss: 0.5692 - acc: 0.7095\n",
            "Epoch 30/70\n",
            "10000/10000 [==============================] - 1s 60us/sample - loss: 0.5633 - acc: 0.7155\n",
            "Epoch 31/70\n",
            "10000/10000 [==============================] - 1s 60us/sample - loss: 0.5586 - acc: 0.7158\n",
            "Epoch 32/70\n",
            "10000/10000 [==============================] - 1s 61us/sample - loss: 0.5566 - acc: 0.7175\n",
            "Epoch 33/70\n",
            "10000/10000 [==============================] - 1s 61us/sample - loss: 0.5470 - acc: 0.7213\n",
            "Epoch 34/70\n",
            "10000/10000 [==============================] - 1s 60us/sample - loss: 0.5401 - acc: 0.7252\n",
            "Epoch 35/70\n",
            "10000/10000 [==============================] - 1s 58us/sample - loss: 0.5358 - acc: 0.7298\n",
            "Epoch 36/70\n",
            "10000/10000 [==============================] - 1s 60us/sample - loss: 0.5297 - acc: 0.7308\n",
            "Epoch 37/70\n",
            "10000/10000 [==============================] - 1s 59us/sample - loss: 0.5257 - acc: 0.7345\n",
            "Epoch 38/70\n",
            "10000/10000 [==============================] - 1s 60us/sample - loss: 0.5187 - acc: 0.7418\n",
            "Epoch 39/70\n",
            "10000/10000 [==============================] - 1s 58us/sample - loss: 0.5156 - acc: 0.7368\n",
            "Epoch 40/70\n",
            "10000/10000 [==============================] - 1s 61us/sample - loss: 0.5083 - acc: 0.7456\n",
            "Epoch 41/70\n",
            "10000/10000 [==============================] - 1s 60us/sample - loss: 0.5048 - acc: 0.7453\n",
            "Epoch 42/70\n",
            "10000/10000 [==============================] - 1s 59us/sample - loss: 0.5007 - acc: 0.7499\n",
            "Epoch 43/70\n",
            "10000/10000 [==============================] - 1s 61us/sample - loss: 0.4929 - acc: 0.7530\n",
            "Epoch 44/70\n",
            "10000/10000 [==============================] - 1s 59us/sample - loss: 0.4894 - acc: 0.7515\n",
            "Epoch 45/70\n",
            "10000/10000 [==============================] - 1s 62us/sample - loss: 0.4843 - acc: 0.7599\n",
            "Epoch 46/70\n",
            "10000/10000 [==============================] - 1s 60us/sample - loss: 0.4794 - acc: 0.7585\n",
            "Epoch 47/70\n",
            "10000/10000 [==============================] - 1s 59us/sample - loss: 0.4729 - acc: 0.7659\n",
            "Epoch 48/70\n",
            "10000/10000 [==============================] - 1s 60us/sample - loss: 0.4682 - acc: 0.7697\n",
            "Epoch 49/70\n",
            "10000/10000 [==============================] - 1s 59us/sample - loss: 0.4638 - acc: 0.7688\n",
            "Epoch 50/70\n",
            "10000/10000 [==============================] - 1s 61us/sample - loss: 0.4596 - acc: 0.7660\n",
            "Epoch 51/70\n",
            "10000/10000 [==============================] - 1s 59us/sample - loss: 0.4534 - acc: 0.7735\n",
            "Epoch 52/70\n",
            "10000/10000 [==============================] - 1s 60us/sample - loss: 0.4497 - acc: 0.7775\n",
            "Epoch 53/70\n",
            "10000/10000 [==============================] - 1s 60us/sample - loss: 0.4419 - acc: 0.7799\n",
            "Epoch 54/70\n",
            "10000/10000 [==============================] - 1s 59us/sample - loss: 0.4390 - acc: 0.7794\n",
            "Epoch 55/70\n",
            "10000/10000 [==============================] - 1s 60us/sample - loss: 0.4313 - acc: 0.7822\n",
            "Epoch 56/70\n",
            "10000/10000 [==============================] - 1s 59us/sample - loss: 0.4279 - acc: 0.7876\n",
            "Epoch 57/70\n",
            "10000/10000 [==============================] - 1s 61us/sample - loss: 0.4278 - acc: 0.7861\n",
            "Epoch 58/70\n",
            "10000/10000 [==============================] - 1s 60us/sample - loss: 0.4185 - acc: 0.7919\n",
            "Epoch 59/70\n",
            "10000/10000 [==============================] - 1s 58us/sample - loss: 0.4140 - acc: 0.7945\n",
            "Epoch 60/70\n",
            "10000/10000 [==============================] - 1s 62us/sample - loss: 0.4097 - acc: 0.7972\n",
            "Epoch 61/70\n",
            "10000/10000 [==============================] - 1s 60us/sample - loss: 0.4060 - acc: 0.7991\n",
            "Epoch 62/70\n",
            "10000/10000 [==============================] - 1s 62us/sample - loss: 0.3999 - acc: 0.8036\n",
            "Epoch 63/70\n",
            "10000/10000 [==============================] - 1s 60us/sample - loss: 0.3981 - acc: 0.8039\n",
            "Epoch 64/70\n",
            "10000/10000 [==============================] - 1s 59us/sample - loss: 0.3954 - acc: 0.7993\n",
            "Epoch 65/70\n",
            "10000/10000 [==============================] - 1s 60us/sample - loss: 0.3881 - acc: 0.8075\n",
            "Epoch 66/70\n",
            "10000/10000 [==============================] - 1s 58us/sample - loss: 0.3806 - acc: 0.8116\n",
            "Epoch 67/70\n",
            "10000/10000 [==============================] - 1s 61us/sample - loss: 0.3787 - acc: 0.8112\n",
            "Epoch 68/70\n",
            "10000/10000 [==============================] - 1s 59us/sample - loss: 0.3744 - acc: 0.8142\n",
            "Epoch 69/70\n",
            "10000/10000 [==============================] - 1s 60us/sample - loss: 0.3727 - acc: 0.8115\n",
            "Epoch 70/70\n",
            "10000/10000 [==============================] - 1s 60us/sample - loss: 0.3658 - acc: 0.8175\n",
            "training time takes  42.620079040527344\n",
            "10000/10000 [==============================] - 0s 43us/sample - loss: 0.7780 - acc: 0.6421\n",
            "Test accuracy: 0.6421\n"
          ],
          "name": "stdout"
        }
      ]
    },
    {
      "cell_type": "markdown",
      "metadata": {
        "id": "wILapJFSQ_t3",
        "colab_type": "text"
      },
      "source": [
        "Save the trained model"
      ]
    },
    {
      "cell_type": "code",
      "metadata": {
        "id": "9vvYv6iI2b2y",
        "colab_type": "code",
        "colab": {}
      },
      "source": [
        "# save model and architecture to single file\n",
        "save_path = '/content/gdrive/My Drive/IsingModel/'\n",
        "model_name = 'temp_classifier_100_256_512_5.h5'\n",
        "model.save(os.path.join(save_path, model_name))"
      ],
      "execution_count": 0,
      "outputs": []
    },
    {
      "cell_type": "markdown",
      "metadata": {
        "id": "mVdob9MMt6h2",
        "colab_type": "text"
      },
      "source": [
        "## Prediction"
      ]
    },
    {
      "cell_type": "markdown",
      "metadata": {
        "id": "oEmvBT6qVkkZ",
        "colab_type": "text"
      },
      "source": [
        "One can load a trained temp_classifier as the following."
      ]
    },
    {
      "cell_type": "code",
      "metadata": {
        "id": "zo_PXkCgVidf",
        "colab_type": "code",
        "outputId": "936b6649-3843-4eaf-984f-f166a5164c4c",
        "colab": {
          "base_uri": "https://localhost:8080/",
          "height": 329
        }
      },
      "source": [
        "# load model and architecture from a single file\n",
        "save_path = '/content/gdrive/My Drive/IsingModel/'\n",
        "model_name = 'temp_classifier_100_256_512_5.h5'\n",
        "model = keras.models.load_model(os.path.join(save_path, model_name))\n",
        "\n",
        "model.summary() # print the architecture of the model\n",
        "\n",
        "# evaluate accuracy\n",
        "test_loss, test_acc = model.evaluate(np.array(test_data),test_labels)\n",
        "print('Test accuracy:', test_acc)"
      ],
      "execution_count": 0,
      "outputs": [
        {
          "output_type": "stream",
          "text": [
            "Model: \"sequential_3\"\n",
            "_________________________________________________________________\n",
            "Layer (type)                 Output Shape              Param #   \n",
            "=================================================================\n",
            "flatten_3 (Flatten)          (None, 100)               0         \n",
            "_________________________________________________________________\n",
            "dense_9 (Dense)              (None, 256)               25856     \n",
            "_________________________________________________________________\n",
            "dense_10 (Dense)             (None, 512)               131584    \n",
            "_________________________________________________________________\n",
            "dense_11 (Dense)             (None, 5)                 2565      \n",
            "=================================================================\n",
            "Total params: 160,005\n",
            "Trainable params: 160,005\n",
            "Non-trainable params: 0\n",
            "_________________________________________________________________\n",
            "10000/10000 [==============================] - 0s 47us/sample - loss: 0.7780 - acc: 0.6421\n",
            "Test accuracy: 0.6421\n"
          ],
          "name": "stdout"
        }
      ]
    },
    {
      "cell_type": "markdown",
      "metadata": {
        "id": "E_fBvtXfVzuv",
        "colab_type": "text"
      },
      "source": [
        "Given data of spin distributions, temp_classifier can predict the corresponding temperatures as the following."
      ]
    },
    {
      "cell_type": "code",
      "metadata": {
        "id": "xoZVc_YBp8_E",
        "colab_type": "code",
        "outputId": "5ee1fc69-b9ab-41d8-e862-b6023bb75cbd",
        "colab": {
          "base_uri": "https://localhost:8080/",
          "height": 573
        }
      },
      "source": [
        "# make a prediction\n",
        "TempClass = 2 # choose a temp label\n",
        "chosen_index = TempClass*2000+np.random.randint(0,1999) # randomly pick a sample\n",
        "\n",
        "img = np.array(test_data[chosen_index])\n",
        "img = (np.expand_dims(img,0)) # Add the image to a batch where it's the only member.\n",
        "predictions = model.predict(img)\n",
        "\n",
        "#plot_value_array(0, predictions, test_labels[chosen_index])\n",
        "#_ = plt.xticks(range(5), temperatures, rotation=45)\n",
        "\n",
        "print(predictions) # probability distribution\n",
        "plt.plot(range(len(temperatures)),predictions[0],'ob')\n",
        "plt.show()\n",
        "print('Predict temperature is '+\n",
        "      str(temperatures[np.argmax(predictions)])) # prediction\n",
        "\n",
        "print('Data temperature is '+str(temperatures[test_labels[chosen_index]]))# fact\n",
        "plt.figure()\n",
        "plt.imshow(test_data[chosen_index], cmap=plt.cm.binary)\n",
        "plt.show()"
      ],
      "execution_count": 0,
      "outputs": [
        {
          "output_type": "stream",
          "text": [
            "[[2.7254787e-08 8.9285886e-06 4.6767202e-01 5.0977039e-01 2.2548644e-02]]\n"
          ],
          "name": "stdout"
        },
        {
          "output_type": "display_data",
          "data": {
            "image/png": "[encoded data removed]",
            "text/plain": [
              "<Figure size 432x288 with 1 Axes>"
            ]
          },
          "metadata": {
            "tags": []
          }
        },
        {
          "output_type": "stream",
          "text": [
            "Predict temperature is 3.27\n",
            "Data temperature is 2.27\n"
          ],
          "name": "stdout"
        },
        {
          "output_type": "display_data",
          "data": {
            "image/png": "[encoded data removed]",
            "text/plain": [
              "<Figure size 432x288 with 1 Axes>"
            ]
          },
          "metadata": {
            "tags": []
          }
        }
      ]
    }
  ]
}